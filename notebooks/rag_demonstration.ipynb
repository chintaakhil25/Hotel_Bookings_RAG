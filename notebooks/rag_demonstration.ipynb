{
  "cells": [
    {
      "cell_type": "code",
      "execution_count": 1,
      "metadata": {
        "colab": {
          "base_uri": "https://localhost:8080/"
        },
        "id": "zDFoKOYtr9VT",
        "outputId": "b185041d-4970-4638-ed7a-80d0c7f24c21"
      },
      "outputs": [],
      "source": [
        "import sys\n",
        "import os\n",
        "import pandas as pd\n",
        "sys.path.append(os.path.abspath(\"..\"))\n",
        "\n",
        "from rag_system import (load_vector_store, load_llm, retrieve_insights, generate_answer)"
      ]
    },
    {
      "cell_type": "code",
      "execution_count": 2,
      "metadata": {
        "id": "bffj66kEr-hb"
      },
      "outputs": [
        {
          "name": "stderr",
          "output_type": "stream",
          "text": [
            "c:\\Users\\chint\\OneDrive\\Desktop\\RAG-HotelBookings\\hotel_bookingsenv\\Lib\\site-packages\\tqdm\\auto.py:21: TqdmWarning: IProgress not found. Please update jupyter and ipywidgets. See https://ipywidgets.readthedocs.io/en/stable/user_install.html\n",
            "  from .autonotebook import tqdm as notebook_tqdm\n"
          ]
        }
      ],
      "source": [
        "vector_store = load_vector_store()"
      ]
    },
    {
      "cell_type": "code",
      "execution_count": 4,
      "metadata": {
        "id": "Y4xeY8gmsGPe"
      },
      "outputs": [
        {
          "name": "stdout",
          "output_type": "stream",
          "text": [
            "Retrieving insights\n",
            "  Score: 0.194, Type: cancellation_rate_by_hotel, Content: The cancellation rate for City Hotel was 41.73%\n",
            "  Score: 0.416, Type: cancellation_rate_by_hotel, Content: The cancellation rate for Resort Hotel was 27.76%\n",
            "  Score: 0.605, Type: cancellation_rate_by_month_year, Content: The cancellation rate for 10/2015 was 34.94%\n"
          ]
        }
      ],
      "source": [
        "print(\"Retrieving insights\")\n",
        "results = retrieve_insights( \"What is the cancellation rate in City Hotel?\", k=3)\n",
        "for doc, score in results:\n",
        "    print(f\"  Score: {score:.3f}, Type: {doc.metadata['type']}, Content: {doc.page_content}\")"
      ]
    },
    {
      "cell_type": "code",
      "execution_count": 5,
      "metadata": {},
      "outputs": [],
      "source": [
        "llm = load_llm()"
      ]
    },
    {
      "cell_type": "code",
      "execution_count": 6,
      "metadata": {
        "id": "tnLapmecsGL5"
      },
      "outputs": [],
      "source": [
        "def answer_query_with_llm(query, k):\n",
        "    \"\"\"Retrieves insights and uses an LLM to generate an answer.\"\"\"\n",
        "\n",
        "    results = retrieve_insights(query, k=k)  \n",
        "    context = \"\"\n",
        "    for doc, score in results:\n",
        "        context += f\"Source (Type: {doc.metadata['type']}): {doc.page_content}\\n\"\n",
        "\n",
        "    prompt = f\"\"\"\n",
        "    You are a helpful assistant that answers questions based on provided context.\n",
        "    If the answer is not in the context, respond with \"I don't have enough information to answer.\"\n",
        "\n",
        "    Context:\n",
        "    {context}\n",
        "\n",
        "    Question: {query}\n",
        "\n",
        "    Answer:\n",
        "    \"\"\"\n",
        "    answer = llm.invoke(prompt)  # Use .invoke() and get .content\n",
        "    return answer.content"
      ]
    },
    {
      "cell_type": "code",
      "execution_count": null,
      "metadata": {
        "id": "je0vWg2AsGIC"
      },
      "outputs": [
        {
          "name": "stdout",
          "output_type": "stream",
          "text": [
            "\n",
            "Testing the full RAG system:\n",
            "The cancellation rate for Resort Hotel was 27.76%\n"
          ]
        }
      ],
      "source": [
        "print(\"\\nTesting the full RAG system:\")\n",
        "user_query = \"What was the cancellation rate for resort hotels?\"\n",
        "answer = answer_query_with_llm(user_query, k=5)\n",
        "print(answer)\n"
      ]
    },
    {
      "cell_type": "code",
      "execution_count": null,
      "metadata": {},
      "outputs": [
        {
          "name": "stdout",
          "output_type": "stream",
          "text": [
            "USA makes the most hotel bookings with 2097 bookings.\n"
          ]
        }
      ],
      "source": [
        "user_query = \"People from which Country makes the most hotel bookings?\"\n",
        "answer = answer_query_with_llm(user_query, k=5)\n",
        "print(answer)"
      ]
    },
    {
      "cell_type": "code",
      "execution_count": 12,
      "metadata": {
        "id": "46u89dmRsGF9"
      },
      "outputs": [
        {
          "name": "stdout",
          "output_type": "stream",
          "text": [
            "The average lead time was 104.01 days.\n"
          ]
        }
      ],
      "source": [
        "user_query = \"What was the average lead time?\"\n",
        "answer = answer_query_with_llm(user_query, k=5)\n",
        "print(answer)"
      ]
    },
    {
      "cell_type": "code",
      "execution_count": null,
      "metadata": {
        "id": "h_iqrBq2sGDd"
      },
      "outputs": [],
      "source": []
    },
    {
      "cell_type": "code",
      "execution_count": null,
      "metadata": {
        "id": "8HCPP2gVsGAm"
      },
      "outputs": [],
      "source": []
    },
    {
      "cell_type": "code",
      "execution_count": null,
      "metadata": {
        "id": "sPf1VxevsF-Q"
      },
      "outputs": [],
      "source": []
    },
    {
      "cell_type": "code",
      "execution_count": null,
      "metadata": {
        "id": "FiDlRMwSsF7f"
      },
      "outputs": [],
      "source": []
    },
    {
      "cell_type": "code",
      "execution_count": null,
      "metadata": {
        "id": "J7YOqhR7sF42"
      },
      "outputs": [],
      "source": []
    },
    {
      "cell_type": "code",
      "execution_count": null,
      "metadata": {
        "id": "ZxKtMGgfsF2J"
      },
      "outputs": [],
      "source": []
    },
    {
      "cell_type": "code",
      "execution_count": null,
      "metadata": {
        "id": "hg_EgTrVsFzd"
      },
      "outputs": [],
      "source": []
    }
  ],
  "metadata": {
    "accelerator": "GPU",
    "colab": {
      "gpuType": "T4",
      "provenance": []
    },
    "kernelspec": {
      "display_name": "hotel_bookingsenv",
      "language": "python",
      "name": "python3"
    },
    "language_info": {
      "codemirror_mode": {
        "name": "ipython",
        "version": 3
      },
      "file_extension": ".py",
      "mimetype": "text/x-python",
      "name": "python",
      "nbconvert_exporter": "python",
      "pygments_lexer": "ipython3",
      "version": "3.12.4"
    }
  },
  "nbformat": 4,
  "nbformat_minor": 0
}
